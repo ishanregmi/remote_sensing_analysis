{
 "cells": [
  {
   "cell_type": "code",
   "execution_count": 6,
   "id": "2fcce102",
   "metadata": {},
   "outputs": [
    {
     "data": {
      "text/html": [
       "\n",
       "            <style>\n",
       "                .geemap-dark {\n",
       "                    --jp-widgets-color: white;\n",
       "                    --jp-widgets-label-color: white;\n",
       "                    --jp-ui-font-color1: white;\n",
       "                    --jp-layout-color2: #454545;\n",
       "                    background-color: #383838;\n",
       "                }\n",
       "\n",
       "                .geemap-dark .jupyter-button {\n",
       "                    --jp-layout-color3: #383838;\n",
       "                }\n",
       "\n",
       "                .geemap-colab {\n",
       "                    background-color: var(--colab-primary-surface-color, white);\n",
       "                }\n",
       "\n",
       "                .geemap-colab .jupyter-button {\n",
       "                    --jp-layout-color3: var(--colab-primary-surface-color, white);\n",
       "                }\n",
       "            </style>\n",
       "            "
      ],
      "text/plain": [
       "<IPython.core.display.HTML object>"
      ]
     },
     "metadata": {},
     "output_type": "display_data"
    }
   ],
   "source": [
    "import geemap\n",
    "import ee\n",
    "geemap.ee_initialize()"
   ]
  },
  {
   "cell_type": "code",
   "execution_count": 8,
   "id": "1084573f",
   "metadata": {},
   "outputs": [
    {
     "data": {
      "text/html": [
       "\n",
       "            <style>\n",
       "                .geemap-dark {\n",
       "                    --jp-widgets-color: white;\n",
       "                    --jp-widgets-label-color: white;\n",
       "                    --jp-ui-font-color1: white;\n",
       "                    --jp-layout-color2: #454545;\n",
       "                    background-color: #383838;\n",
       "                }\n",
       "\n",
       "                .geemap-dark .jupyter-button {\n",
       "                    --jp-layout-color3: #383838;\n",
       "                }\n",
       "\n",
       "                .geemap-colab {\n",
       "                    background-color: var(--colab-primary-surface-color, white);\n",
       "                }\n",
       "\n",
       "                .geemap-colab .jupyter-button {\n",
       "                    --jp-layout-color3: var(--colab-primary-surface-color, white);\n",
       "                }\n",
       "            </style>\n",
       "            "
      ],
      "text/plain": [
       "<IPython.core.display.HTML object>"
      ]
     },
     "metadata": {},
     "output_type": "display_data"
    }
   ],
   "source": [
    "# only doing one simple work done by using geemap about ndvi map of chitwan districts\n",
    "# import shape file get the chitwan district only\n",
    "import geemap\n",
    "import geopandas as gpd\n",
    "all_district=r\"C:\\Users\\Acer\\Desktop\\miniproject\\data\\data2\\Districts.shp\"\n",
    "df=gpd.read_file(all_district)\n",
    "chitwanonly=df[df[\"DIST_NAME\"]== \"Chitawan\"]\n",
    "chitwanonly\n",
    "m=geemap.Map()\n",
    "m.add_gdf(chitwanonly, layer_name=\"chitwan\")"
   ]
  },
  {
   "cell_type": "code",
   "execution_count": 9,
   "id": "d929f76a",
   "metadata": {},
   "outputs": [
    {
     "data": {
      "text/html": [
       "\n",
       "            <style>\n",
       "                .geemap-dark {\n",
       "                    --jp-widgets-color: white;\n",
       "                    --jp-widgets-label-color: white;\n",
       "                    --jp-ui-font-color1: white;\n",
       "                    --jp-layout-color2: #454545;\n",
       "                    background-color: #383838;\n",
       "                }\n",
       "\n",
       "                .geemap-dark .jupyter-button {\n",
       "                    --jp-layout-color3: #383838;\n",
       "                }\n",
       "\n",
       "                .geemap-colab {\n",
       "                    background-color: var(--colab-primary-surface-color, white);\n",
       "                }\n",
       "\n",
       "                .geemap-colab .jupyter-button {\n",
       "                    --jp-layout-color3: var(--colab-primary-surface-color, white);\n",
       "                }\n",
       "            </style>\n",
       "            "
      ],
      "text/plain": [
       "<IPython.core.display.HTML object>"
      ]
     },
     "metadata": {},
     "output_type": "display_data"
    }
   ],
   "source": [
    "chitwanonly=chitwanonly.to_crs(epsg=4326)\n",
    "chitwan_dist=geemap.gdf_to_ee(chitwanonly)"
   ]
  },
  {
   "cell_type": "code",
   "execution_count": 10,
   "id": "1cf879e8",
   "metadata": {},
   "outputs": [
    {
     "data": {
      "text/html": [
       "\n",
       "            <style>\n",
       "                .geemap-dark {\n",
       "                    --jp-widgets-color: white;\n",
       "                    --jp-widgets-label-color: white;\n",
       "                    --jp-ui-font-color1: white;\n",
       "                    --jp-layout-color2: #454545;\n",
       "                    background-color: #383838;\n",
       "                }\n",
       "\n",
       "                .geemap-dark .jupyter-button {\n",
       "                    --jp-layout-color3: #383838;\n",
       "                }\n",
       "\n",
       "                .geemap-colab {\n",
       "                    background-color: var(--colab-primary-surface-color, white);\n",
       "                }\n",
       "\n",
       "                .geemap-colab .jupyter-button {\n",
       "                    --jp-layout-color3: var(--colab-primary-surface-color, white);\n",
       "                }\n",
       "            </style>\n",
       "            "
      ],
      "text/plain": [
       "<IPython.core.display.HTML object>"
      ]
     },
     "metadata": {},
     "output_type": "display_data"
    }
   ],
   "source": [
    "# compute ndvi for each image :\n",
    "\n",
    "def add_ndvi(image):\n",
    "    \"\"\"Adds an NDVI band to an image.\"\"\"\n",
    "    ndvi = image.normalizedDifference(['B8', 'B4']).rename('NDVI')\n",
    "    return image.addBands(ndvi)\n",
    "\n",
    "def mask_clouds(image):\n",
    "    \"\"\"Masks clouds using the 'MSK_CLDPRB' band.\"\"\"\n",
    "    clouds = image.select('MSK_CLDPRB').gt(65) # Greater than 65% cloud probability\n",
    "    return image.updateMask(clouds.Not())  # Mask out those pixels\n"
   ]
  },
  {
   "cell_type": "code",
   "execution_count": 11,
   "id": "22a28432",
   "metadata": {},
   "outputs": [
    {
     "data": {
      "text/html": [
       "\n",
       "            <style>\n",
       "                .geemap-dark {\n",
       "                    --jp-widgets-color: white;\n",
       "                    --jp-widgets-label-color: white;\n",
       "                    --jp-ui-font-color1: white;\n",
       "                    --jp-layout-color2: #454545;\n",
       "                    background-color: #383838;\n",
       "                }\n",
       "\n",
       "                .geemap-dark .jupyter-button {\n",
       "                    --jp-layout-color3: #383838;\n",
       "                }\n",
       "\n",
       "                .geemap-colab {\n",
       "                    background-color: var(--colab-primary-surface-color, white);\n",
       "                }\n",
       "\n",
       "                .geemap-colab .jupyter-button {\n",
       "                    --jp-layout-color3: var(--colab-primary-surface-color, white);\n",
       "                }\n",
       "            </style>\n",
       "            "
      ],
      "text/plain": [
       "<IPython.core.display.HTML object>"
      ]
     },
     "metadata": {},
     "output_type": "display_data"
    },
    {
     "name": "stdout",
     "output_type": "stream",
     "text": [
      "Processing year: 2019\n",
      "Band names of NDVI composite for year 2019: ['NDVI']\n",
      "finish processing 2019\n",
      "Processing year: 2020\n",
      "Band names of NDVI composite for year 2020: ['NDVI']\n",
      "finish processing 2020\n",
      "Processing year: 2021\n",
      "Band names of NDVI composite for year 2021: ['NDVI']\n",
      "finish processing 2021\n",
      "Processing year: 2022\n",
      "Band names of NDVI composite for year 2022: ['NDVI']\n",
      "finish processing 2022\n",
      "Processing year: 2023\n",
      "Band names of NDVI composite for year 2023: ['NDVI']\n",
      "finish processing 2023\n",
      "Processing year: 2024\n",
      "Band names of NDVI composite for year 2024: ['NDVI']\n",
      "finish processing 2024\n"
     ]
    }
   ],
   "source": [
    "chitwan_area=chitwan_dist.geometry()\n",
    "def compute_ndvi_for_year(year, chitwan_area):\n",
    "    \"\"\"Computes NDVI composite for a given year.\"\"\"\n",
    "\n",
    "    start_date = f'{year}-01-01'\n",
    "    end_date = f'{year}-12-31'\n",
    "\n",
    "    # Load Sentinel-2 data, filter by date, region, and cloud cover.\n",
    "    sentinel2 = (ee.ImageCollection(\"COPERNICUS/S2_SR_HARMONIZED\")\n",
    "                  .filterDate(start_date, end_date)\n",
    "                  .filterBounds(chitwan_area)\n",
    "                  .filter(ee.Filter.lt('CLOUDY_PIXEL_PERCENTAGE', 20))) # 20% cloud cover or less\n",
    "\n",
    "    # Apply cloud masking BEFORE NDVI calculation\n",
    "    sentinel2_masked = sentinel2.map(mask_clouds)\n",
    "\n",
    "    # Apply the NDVI function to the *masked* image collection.\n",
    "    ndvi_collection = sentinel2_masked.map(add_ndvi)\n",
    "    \n",
    "    # Create a median composite from the NDVI collection.\n",
    "    ndvi_composite = ndvi_collection.select('NDVI').median().clip(chitwan_area)\n",
    "    composite_band_names = ndvi_composite.bandNames()\n",
    "    print(f\"Band names of NDVI composite for year {year}: {composite_band_names.getInfo()}\")\n",
    "\n",
    "    return ndvi_composite\n",
    "years = range(2019,2025)  # 2018 to 2024\n",
    "\n",
    "# OR Create an empty dictionary to store the yearly NDVI composites (keyed by year).\n",
    "# yearly_ndvi_composites = {} #dictionary\n",
    "\n",
    "#yearly_ndvi_composites = []  # You don't need this if you're only using the dictionary\n",
    "yearly_ndvi_composites_dict = {}  # Initialize as an empty DICTIONARY!\n",
    "\n",
    "# Iterate through the years and compute the NDVI composites\n",
    "for year in years:\n",
    "  print(f\"Processing year: {year}\")  # Optional: Print progress\n",
    "  ndvi_composite = compute_ndvi_for_year(year, chitwan_area) \n",
    "  print(f\"finish processing {year}\") # Call your function\n",
    "\n",
    "    # Append the result to the list\n",
    "    #yearly_ndvi_composites.append(ndvi_composite) #error here, should remove this if using dictionary\n",
    "\n",
    "    # OR Store the result in the dictionary, keyed by the year.\n",
    "  yearly_ndvi_composites_dict[year] = ndvi_composite  #Correct way of assigning value to dictionary"
   ]
  },
  {
   "cell_type": "code",
   "execution_count": 12,
   "id": "652cbf1c",
   "metadata": {},
   "outputs": [
    {
     "data": {
      "text/html": [
       "\n",
       "            <style>\n",
       "                .geemap-dark {\n",
       "                    --jp-widgets-color: white;\n",
       "                    --jp-widgets-label-color: white;\n",
       "                    --jp-ui-font-color1: white;\n",
       "                    --jp-layout-color2: #454545;\n",
       "                    background-color: #383838;\n",
       "                }\n",
       "\n",
       "                .geemap-dark .jupyter-button {\n",
       "                    --jp-layout-color3: #383838;\n",
       "                }\n",
       "\n",
       "                .geemap-colab {\n",
       "                    background-color: var(--colab-primary-surface-color, white);\n",
       "                }\n",
       "\n",
       "                .geemap-colab .jupyter-button {\n",
       "                    --jp-layout-color3: var(--colab-primary-surface-color, white);\n",
       "                }\n",
       "            </style>\n",
       "            "
      ],
      "text/plain": [
       "<IPython.core.display.HTML object>"
      ]
     },
     "metadata": {},
     "output_type": "display_data"
    }
   ],
   "source": [
    "def dict_to_imagecollection(ndvi_dict):\n",
    "    images = []\n",
    "    for year, img in ndvi_dict.items():\n",
    "        # Assign time property so ts_inspector can plot by year\n",
    "        img = img.set('system:time_start', ee.Date.fromYMD(year, 1, 1).millis())\n",
    "        images.append(img)\n",
    "    return ee.ImageCollection(images)\n",
    "\n",
    "# Convert\n",
    "ndvi_ic = dict_to_imagecollection(yearly_ndvi_composites_dict)\n"
   ]
  },
  {
   "cell_type": "code",
   "execution_count": 15,
   "id": "12a0061d",
   "metadata": {},
   "outputs": [
    {
     "data": {
      "text/html": [
       "\n",
       "            <style>\n",
       "                .geemap-dark {\n",
       "                    --jp-widgets-color: white;\n",
       "                    --jp-widgets-label-color: white;\n",
       "                    --jp-ui-font-color1: white;\n",
       "                    --jp-layout-color2: #454545;\n",
       "                    background-color: #383838;\n",
       "                }\n",
       "\n",
       "                .geemap-dark .jupyter-button {\n",
       "                    --jp-layout-color3: #383838;\n",
       "                }\n",
       "\n",
       "                .geemap-colab {\n",
       "                    background-color: var(--colab-primary-surface-color, white);\n",
       "                }\n",
       "\n",
       "                .geemap-colab .jupyter-button {\n",
       "                    --jp-layout-color3: var(--colab-primary-surface-color, white);\n",
       "                }\n",
       "            </style>\n",
       "            "
      ],
      "text/plain": [
       "<IPython.core.display.HTML object>"
      ]
     },
     "metadata": {},
     "output_type": "display_data"
    },
    {
     "data": {
      "application/vnd.jupyter.widget-view+json": {
       "model_id": "a250271b29d045778994fce1ca186f1b",
       "version_major": 2,
       "version_minor": 0
      },
      "text/plain": [
       "Map(bottom=110461.0, center=[27.58469920634319, 84.43650321937417], controls=(WidgetControl(options=['position…"
      ]
     },
     "execution_count": 15,
     "metadata": {},
     "output_type": "execute_result"
    }
   ],
   "source": [
    "ndvi_vis_params = {\n",
    "    'min': 0,\n",
    "    'max': 1,\n",
    "    'palette': [\n",
    "        \"#d73027\", \"#fdae61\", \"#fee08b\",\n",
    "        \"#d9ef8b\", \"#1a9850\", \"#006837\"\n",
    "    ]\n",
    "}\n",
    "m.centerObject(chitwan_area, 10)\n",
    "\n",
    "# Add Time Series Inspector\n",
    "m.ts_inspector(\n",
    "    left_ts=ndvi_ic,\n",
    "    right_ts=ndvi_ic,\n",
    "    left_names=[str(y) for y in years],\n",
    "    right_names=[str(y) for y in years],\n",
    "    left_vis=ndvi_vis_params,\n",
    "    right_vis=ndvi_vis_params,\n",
    "    width=\"80px\",\n",
    ")\n",
    "m"
   ]
  },
  {
   "cell_type": "code",
   "execution_count": 16,
   "id": "2b2ea2e1",
   "metadata": {},
   "outputs": [
    {
     "data": {
      "text/html": [
       "\n",
       "            <style>\n",
       "                .geemap-dark {\n",
       "                    --jp-widgets-color: white;\n",
       "                    --jp-widgets-label-color: white;\n",
       "                    --jp-ui-font-color1: white;\n",
       "                    --jp-layout-color2: #454545;\n",
       "                    background-color: #383838;\n",
       "                }\n",
       "\n",
       "                .geemap-dark .jupyter-button {\n",
       "                    --jp-layout-color3: #383838;\n",
       "                }\n",
       "\n",
       "                .geemap-colab {\n",
       "                    background-color: var(--colab-primary-surface-color, white);\n",
       "                }\n",
       "\n",
       "                .geemap-colab .jupyter-button {\n",
       "                    --jp-layout-color3: var(--colab-primary-surface-color, white);\n",
       "                }\n",
       "            </style>\n",
       "            "
      ],
      "text/plain": [
       "<IPython.core.display.HTML object>"
      ]
     },
     "metadata": {},
     "output_type": "display_data"
    }
   ],
   "source": [
    "ndvi_legend={\n",
    "    \"Water / No vegetation\": \"#d73027\",\n",
    "    \"Barren land / Built-up\": \"#fdae61\",\n",
    "    \"Sparse vegetation\": \"#fee08b\",\n",
    "    \"Moderate vegetation\": \"#d9ef8b\",\n",
    "    \"Dense vegetation\": \"#1a9850\",\n",
    "    \"Very dense vegetation\": \"#006837\"\n",
    "}\n",
    "m.add_legend(title='NDVI Categories',\n",
    "              legend_dict =ndvi_legend,\n",
    "              position=\"bottomright\")  \n",
    "m.add(\"basemap_selector\")"
   ]
  }
 ],
 "metadata": {
  "kernelspec": {
   "display_name": "Python 3",
   "language": "python",
   "name": "python3"
  },
  "language_info": {
   "codemirror_mode": {
    "name": "ipython",
    "version": 3
   },
   "file_extension": ".py",
   "mimetype": "text/x-python",
   "name": "python",
   "nbconvert_exporter": "python",
   "pygments_lexer": "ipython3",
   "version": "3.11.13"
  }
 },
 "nbformat": 4,
 "nbformat_minor": 5
}
