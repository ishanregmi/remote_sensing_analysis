{
 "cells": [
  {
   "cell_type": "code",
   "execution_count": 1,
   "id": "7f0f9a1e",
   "metadata": {},
   "outputs": [],
   "source": [
    "import geemap\n",
    "import ee\n",
    "geemap.ee_initialize()"
   ]
  },
  {
   "cell_type": "code",
   "execution_count": 2,
   "id": "e99ea932",
   "metadata": {},
   "outputs": [],
   "source": [
    "import leafmap\n",
    "n=leafmap.Map()"
   ]
  },
  {
   "cell_type": "code",
   "execution_count": 3,
   "id": "36e57607",
   "metadata": {},
   "outputs": [],
   "source": [
    "lulc2000=r\"C:\\Users\\Acer\\Desktop\\geoclass\\geog-312\\book\\geospatial\\chitwan_lulc2000.tif\"\n",
    "lulc2020=r\"C:\\Users\\Acer\\Desktop\\geoclass\\geog-312\\book\\geospatial\\chitwan_lulc20200.tif\"\n",
    "# n=leafmap.Map()\n",
    "class_color=[\n",
    "   \"#0000FF\",  # Waterbody - Blue\n",
    "    \"#ADD8E6\",  # Glacier - Light Blue\n",
    "    \"#FFFFFF\",  # Snow - White\n",
    "    \"#006400\",  # Forest - Dark Green\n",
    "    \"#B8860B\",  # Riverbed - Dark Goldenrod\n",
    "    \"#FF0000\",  # Built-up area - Red\n",
    "    \"#FFFF00\",  # Cropland - Yellow\n",
    "    \"#C2B280\",  # Bare soil - Khaki\n",
    "    \"#808080\",  # Bare rock - Gray\n",
    "    \"#7CFC00\",  # Grassland - LawnGreen\n",
    "    \"#228B22\",  # Other wooded land - ForestGreen\n",
    "  \n",
    "]\n",
    "n.add_basemap_gui()"
   ]
  },
  {
   "cell_type": "code",
   "execution_count": 4,
   "id": "3024b912",
   "metadata": {},
   "outputs": [
    {
     "data": {
      "application/vnd.jupyter.widget-view+json": {
       "model_id": "c302a8de9fb04a44ba4c604713f31e5c",
       "version_major": 2,
       "version_minor": 0
      },
      "text/plain": [
       "Map(center=[20, 0], controls=(ZoomControl(options=['position', 'zoom_in_text', 'zoom_in_title', 'zoom_out_text…"
      ]
     },
     "execution_count": 4,
     "metadata": {},
     "output_type": "execute_result"
    }
   ],
   "source": [
    "n.split_map(\n",
    "    left_layer=lulc2000,\n",
    "    right_layer=lulc2020,\n",
    "    left_args={'palette': class_color, 'nodata': 0},\n",
    "    right_args={'palette': class_color,},\n",
    "#     layer_name_left=\"LULC 2000\",\n",
    "#     layer_name_right=\"LULC 2020\"\n",
    " )\n",
    "n"
   ]
  },
  {
   "cell_type": "code",
   "execution_count": 5,
   "id": "e533b92b",
   "metadata": {},
   "outputs": [],
   "source": [
    "legend_title = \"LULC classes\"\n",
    "labels = {\n",
    "    1:  \"Waterbody\",\n",
    "    2:  \"Glacier\",\n",
    "    3:  \"Snow\",\n",
    "    4:  \"Forest\",\n",
    "    5:  \"Riverbed\",\n",
    "    6:  \"Built-up area\",\n",
    "    7:  \"Cropland\",\n",
    "    8:  \"Bare soil\",\n",
    "    9:  \"Bare rock\",\n",
    "    10: \"Grassland\",\n",
    "    11: \"Other wooded land\"\n",
    "}\n",
    "legend_dict = {labels[i+1]: class_color[i] for i in range(len(class_color))}\n",
    "n.add_legend(\n",
    "    title=legend_title,\n",
    "    legend_dict=legend_dict\n",
    ")"
   ]
  },
  {
   "cell_type": "code",
   "execution_count": 6,
   "id": "14d8bbd0",
   "metadata": {},
   "outputs": [
    {
     "data": {
      "application/vnd.jupyter.widget-view+json": {
       "model_id": "c302a8de9fb04a44ba4c604713f31e5c",
       "version_major": 2,
       "version_minor": 0
      },
      "text/plain": [
       "Map(bottom=110434.0, center=[27.617805, 84.357734], controls=(ZoomControl(options=['position', 'zoom_in_text',…"
      ]
     },
     "execution_count": 6,
     "metadata": {},
     "output_type": "execute_result"
    }
   ],
   "source": [
    "n.add_text(\n",
    "    text=\"LULC 2000\",\n",
    "    position=\"topleft\",      # top-left corner of the left pane\n",
    "    font_size=\"16px\",\n",
    "    font_color=\"white\",\n",
    "    background_color=\"rgba(0,0,0,0.6)\",\n",
    "    padding=\"4px\"\n",
    ")\n",
    "n.add_text(\n",
    "    text=\"LULC 2020\",\n",
    "    position=\"topright\",     # top-right corner of the right pane\n",
    "    font_size=\"16px\",\n",
    "    font_color=\"white\",\n",
    "    background_color=\"rgba(0,0,0,0.6)\",\n",
    "    padding=\"4px\"\n",
    ")\n",
    "\n",
    "n"
   ]
  },
  {
   "cell_type": "code",
   "execution_count": 6,
   "id": "e64681a7",
   "metadata": {},
   "outputs": [],
   "source": [
    "n.add_basemap_gui()"
   ]
  }
 ],
 "metadata": {
  "kernelspec": {
   "display_name": "Python 3",
   "language": "python",
   "name": "python3"
  },
  "language_info": {
   "codemirror_mode": {
    "name": "ipython",
    "version": 3
   },
   "file_extension": ".py",
   "mimetype": "text/x-python",
   "name": "python",
   "nbconvert_exporter": "python",
   "pygments_lexer": "ipython3",
   "version": "3.11.13"
  }
 },
 "nbformat": 4,
 "nbformat_minor": 5
}
