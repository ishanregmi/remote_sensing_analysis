{
 "cells": [
  {
   "cell_type": "code",
   "execution_count": 12,
   "id": "b7ecd000",
   "metadata": {},
   "outputs": [
    {
     "data": {
      "text/html": [
       "\n",
       "            <style>\n",
       "                .geemap-dark {\n",
       "                    --jp-widgets-color: white;\n",
       "                    --jp-widgets-label-color: white;\n",
       "                    --jp-ui-font-color1: white;\n",
       "                    --jp-layout-color2: #454545;\n",
       "                    background-color: #383838;\n",
       "                }\n",
       "\n",
       "                .geemap-dark .jupyter-button {\n",
       "                    --jp-layout-color3: #383838;\n",
       "                }\n",
       "\n",
       "                .geemap-colab {\n",
       "                    background-color: var(--colab-primary-surface-color, white);\n",
       "                }\n",
       "\n",
       "                .geemap-colab .jupyter-button {\n",
       "                    --jp-layout-color3: var(--colab-primary-surface-color, white);\n",
       "                }\n",
       "            </style>\n",
       "            "
      ],
      "text/plain": [
       "<IPython.core.display.HTML object>"
      ]
     },
     "metadata": {},
     "output_type": "display_data"
    },
    {
     "data": {
      "text/plain": [
       "<Projected CRS: EPSG:32645>\n",
       "Name: WGS 84 / UTM zone 45N\n",
       "Axis Info [cartesian]:\n",
       "- E[east]: Easting (metre)\n",
       "- N[north]: Northing (metre)\n",
       "Area of Use:\n",
       "- name: Between 84°E and 90°E, northern hemisphere between equator and 84°N, onshore and offshore. Bangladesh. Bhutan. China. India. Kazakhstan. Mongolia. Nepal. Russian Federation.\n",
       "- bounds: (84.0, 0.0, 90.0, 84.0)\n",
       "Coordinate Operation:\n",
       "- name: UTM zone 45N\n",
       "- method: Transverse Mercator\n",
       "Datum: World Geodetic System 1984 ensemble\n",
       "- Ellipsoid: WGS 84\n",
       "- Prime Meridian: Greenwich"
      ]
     },
     "execution_count": 12,
     "metadata": {},
     "output_type": "execute_result"
    }
   ],
   "source": [
    "# selecting aoi of interst from shape file:\n",
    "# its all about understanding geopandas and its work\n",
    "import geopandas as gpd\n",
    "shp_path=r\"C:\\Users\\Acer\\Desktop\\miniproject\\data\\data2\\Districts.shp\"\n",
    "nepal=gpd.read_file(shp_path)\n",
    "chitwan=nepal[nepal['DIST_NAME']==\"Chitawan\"]\n",
    "chitwan=chitwan.to_crs(epsg=32645)\n",
    "chitwan.crs\n",
    "\n",
    "\n"
   ]
  },
  {
   "cell_type": "code",
   "execution_count": 13,
   "id": "0a5e071b",
   "metadata": {},
   "outputs": [
    {
     "data": {
      "text/html": [
       "\n",
       "            <style>\n",
       "                .geemap-dark {\n",
       "                    --jp-widgets-color: white;\n",
       "                    --jp-widgets-label-color: white;\n",
       "                    --jp-ui-font-color1: white;\n",
       "                    --jp-layout-color2: #454545;\n",
       "                    background-color: #383838;\n",
       "                }\n",
       "\n",
       "                .geemap-dark .jupyter-button {\n",
       "                    --jp-layout-color3: #383838;\n",
       "                }\n",
       "\n",
       "                .geemap-colab {\n",
       "                    background-color: var(--colab-primary-surface-color, white);\n",
       "                }\n",
       "\n",
       "                .geemap-colab .jupyter-button {\n",
       "                    --jp-layout-color3: var(--colab-primary-surface-color, white);\n",
       "                }\n",
       "            </style>\n",
       "            "
      ],
      "text/plain": [
       "<IPython.core.display.HTML object>"
      ]
     },
     "metadata": {},
     "output_type": "display_data"
    }
   ],
   "source": [
    "import geemap\n",
    "\n",
    "import ee\n",
    "geemap.ee_initialize()"
   ]
  },
  {
   "cell_type": "code",
   "execution_count": 14,
   "id": "0e614137",
   "metadata": {},
   "outputs": [
    {
     "data": {
      "text/html": [
       "\n",
       "            <style>\n",
       "                .geemap-dark {\n",
       "                    --jp-widgets-color: white;\n",
       "                    --jp-widgets-label-color: white;\n",
       "                    --jp-ui-font-color1: white;\n",
       "                    --jp-layout-color2: #454545;\n",
       "                    background-color: #383838;\n",
       "                }\n",
       "\n",
       "                .geemap-dark .jupyter-button {\n",
       "                    --jp-layout-color3: #383838;\n",
       "                }\n",
       "\n",
       "                .geemap-colab {\n",
       "                    background-color: var(--colab-primary-surface-color, white);\n",
       "                }\n",
       "\n",
       "                .geemap-colab .jupyter-button {\n",
       "                    --jp-layout-color3: var(--colab-primary-surface-color, white);\n",
       "                }\n",
       "            </style>\n",
       "            "
      ],
      "text/plain": [
       "<IPython.core.display.HTML object>"
      ]
     },
     "metadata": {},
     "output_type": "display_data"
    }
   ],
   "source": [
    "# it's all about changing gdf object to ee object becz we are  changing earthengine dataset sentinal 2 for ndbi\n",
    "chitwan_only=geemap.gdf_to_ee(chitwan)\n",
    "chitwan_area=chitwan_only.geometry()\n",
    "Map=geemap.Map()\n"
   ]
  },
  {
   "cell_type": "code",
   "execution_count": 21,
   "id": "3010755f",
   "metadata": {},
   "outputs": [
    {
     "data": {
      "text/html": [
       "\n",
       "            <style>\n",
       "                .geemap-dark {\n",
       "                    --jp-widgets-color: white;\n",
       "                    --jp-widgets-label-color: white;\n",
       "                    --jp-ui-font-color1: white;\n",
       "                    --jp-layout-color2: #454545;\n",
       "                    background-color: #383838;\n",
       "                }\n",
       "\n",
       "                .geemap-dark .jupyter-button {\n",
       "                    --jp-layout-color3: #383838;\n",
       "                }\n",
       "\n",
       "                .geemap-colab {\n",
       "                    background-color: var(--colab-primary-surface-color, white);\n",
       "                }\n",
       "\n",
       "                .geemap-colab .jupyter-button {\n",
       "                    --jp-layout-color3: var(--colab-primary-surface-color, white);\n",
       "                }\n",
       "            </style>\n",
       "            "
      ],
      "text/plain": [
       "<IPython.core.display.HTML object>"
      ]
     },
     "metadata": {},
     "output_type": "display_data"
    },
    {
     "data": {
      "application/vnd.jupyter.widget-view+json": {
       "model_id": "a78d847a340648618589082d74b01d5e",
       "version_major": 2,
       "version_minor": 0
      },
      "text/plain": [
       "Map(center=[27.58469920634319, 84.43650321937417], controls=(WidgetControl(options=['position', 'transparent_b…"
      ]
     },
     "execution_count": 21,
     "metadata": {},
     "output_type": "execute_result"
    }
   ],
   "source": [
    "Map"
   ]
  },
  {
   "cell_type": "code",
   "execution_count": 15,
   "id": "acc92ade",
   "metadata": {},
   "outputs": [
    {
     "data": {
      "text/html": [
       "\n",
       "            <style>\n",
       "                .geemap-dark {\n",
       "                    --jp-widgets-color: white;\n",
       "                    --jp-widgets-label-color: white;\n",
       "                    --jp-ui-font-color1: white;\n",
       "                    --jp-layout-color2: #454545;\n",
       "                    background-color: #383838;\n",
       "                }\n",
       "\n",
       "                .geemap-dark .jupyter-button {\n",
       "                    --jp-layout-color3: #383838;\n",
       "                }\n",
       "\n",
       "                .geemap-colab {\n",
       "                    background-color: var(--colab-primary-surface-color, white);\n",
       "                }\n",
       "\n",
       "                .geemap-colab .jupyter-button {\n",
       "                    --jp-layout-color3: var(--colab-primary-surface-color, white);\n",
       "                }\n",
       "            </style>\n",
       "            "
      ],
      "text/plain": [
       "<IPython.core.display.HTML object>"
      ]
     },
     "metadata": {},
     "output_type": "display_data"
    }
   ],
   "source": [
    "# each image ko ndbi calculate garni function\n",
    "def add_ndbi(image):\n",
    "  nir=image.select('B8')\n",
    "  swir=image.select('B11')\n",
    "  # upscaling swir to 10m using billear resampling\n",
    "  swir_resample=swir.resample('bilinear').reproject(\n",
    "    crs=nir.projection(),\n",
    "    scale=10\n",
    "  )\n",
    "  ndbi=swir_resample.subtract(nir).divide(swir_resample.add(nir)).rename('NDBI')\n",
    "  return image.addBands(ndbi)\n"
   ]
  },
  {
   "cell_type": "code",
   "execution_count": 5,
   "id": "ea4e9d54",
   "metadata": {},
   "outputs": [
    {
     "data": {
      "text/html": [
       "\n",
       "            <style>\n",
       "                .geemap-dark {\n",
       "                    --jp-widgets-color: white;\n",
       "                    --jp-widgets-label-color: white;\n",
       "                    --jp-ui-font-color1: white;\n",
       "                    --jp-layout-color2: #454545;\n",
       "                    background-color: #383838;\n",
       "                }\n",
       "\n",
       "                .geemap-dark .jupyter-button {\n",
       "                    --jp-layout-color3: #383838;\n",
       "                }\n",
       "\n",
       "                .geemap-colab {\n",
       "                    background-color: var(--colab-primary-surface-color, white);\n",
       "                }\n",
       "\n",
       "                .geemap-colab .jupyter-button {\n",
       "                    --jp-layout-color3: var(--colab-primary-surface-color, white);\n",
       "                }\n",
       "            </style>\n",
       "            "
      ],
      "text/plain": [
       "<IPython.core.display.HTML object>"
      ]
     },
     "metadata": {},
     "output_type": "display_data"
    }
   ],
   "source": [
    "# this are the function which can be used for masking clouds \n",
    "\n",
    "# def mask_s2_clouds(image):\n",
    "#     \"\"\"\n",
    "#     Correct cloud masking for Sentinel-2 using SCL band\n",
    "#     SCL values:\n",
    "#     0: No data\n",
    "#     1: Saturated or defective\n",
    "#     2: Dark area pixels\n",
    "#     3: Cloud shadows\n",
    "#     4: Vegetation\n",
    "#     5: Bare soils\n",
    "#     6: Water\n",
    "#     7: Unclassified\n",
    "#     8: Cloud medium probability\n",
    "#     9: Cloud high probability\n",
    "#     10: Thin cirrus\n",
    "#     11: Snow or ice\n",
    "#     \"\"\"\n",
    "#     scl = image.select(\"SCL\")\n",
    "    \n",
    "#     # Mask out clouds, cloud shadows, and other bad pixels\n",
    "#     # Keep only good quality pixels (vegetation, bare soil, water, unclassified)\n",
    "#     good_pixels = scl.eq(4).Or(scl.eq(5)).Or(scl.eq(6)).Or(scl.eq(7))\n",
    "    \n",
    "    # return image.updateMask(good_pixels)\n",
    "# def mask_s2_clouds(image):\n",
    "#     \"\"\"Masks clouds using the 'MSK_CLDPRB' band.\"\"\"\n",
    "#     clouds = image.select('MSK_CLDPRB').gt(65) # Greater than 65% cloud probability\n",
    "#     return image.updateMask(clouds.Not())\n",
    "def mask_s2_clouds(image):\n",
    "    scl = image.select('SCL')\n",
    "    cloud_mask = scl.eq(8).Or(scl.eq(9))  # Clouds medium/high probability\n",
    "    prob_mask = image.select('MSK_CLDPRB').gt(50)\n",
    "    combined_mask = cloud_mask.Or(prob_mask)\n",
    "    return image.updateMask(combined_mask.Not())\n"
   ]
  },
  {
   "cell_type": "code",
   "execution_count": null,
   "id": "5eafecef",
   "metadata": {},
   "outputs": [
    {
     "data": {
      "text/html": [
       "\n",
       "            <style>\n",
       "                .geemap-dark {\n",
       "                    --jp-widgets-color: white;\n",
       "                    --jp-widgets-label-color: white;\n",
       "                    --jp-ui-font-color1: white;\n",
       "                    --jp-layout-color2: #454545;\n",
       "                    background-color: #383838;\n",
       "                }\n",
       "\n",
       "                .geemap-dark .jupyter-button {\n",
       "                    --jp-layout-color3: #383838;\n",
       "                }\n",
       "\n",
       "                .geemap-colab {\n",
       "                    background-color: var(--colab-primary-surface-color, white);\n",
       "                }\n",
       "\n",
       "                .geemap-colab .jupyter-button {\n",
       "                    --jp-layout-color3: var(--colab-primary-surface-color, white);\n",
       "                }\n",
       "            </style>\n",
       "            "
      ],
      "text/plain": [
       "<IPython.core.display.HTML object>"
      ]
     },
     "metadata": {},
     "output_type": "display_data"
    },
    {
     "name": "stdout",
     "output_type": "stream",
     "text": [
      "proccesing year\n",
      "Band names of NDVI composite for year 2020: ['NDBI'] \n",
      "finish processing 2020\n"
     ]
    }
   ],
   "source": [
    "# def compute_ndbi_for_year(year,chitwan_area):\n",
    "#   start_date=f'{year}-01-01'\n",
    "#   end_date=f'{year}-12-31'\n",
    "#   sentinel2 = (ee.ImageCollection(\"COPERNICUS/S2_SR_HARMONIZED\")\n",
    "#                   .filterDate(start_date, end_date)\n",
    "#                   .filterBounds(chitwan_area)\n",
    "#                   .filter(ee.Filter.lt('CLOUDY_PIXEL_PERCENTAGE', 20)))  \n",
    "#   masked_image=sentinel2.map(mask_s2_clouds)\n",
    "#   ndbi_collection=masked_image.map(add_ndbi)\n",
    "\n",
    "#   # create a median composite from the ndvi collection\n",
    "#   ndbi_composite=ndbi_collection.select('NDBI').median().clip(chitwan_area)\n",
    "#   composite_band_names = ndbi_composite.bandNames()\n",
    "#   print(f\"Band names of NDVI composite for year {year}: {composite_band_names.getInfo()} \")\n",
    "#   return ndbi_composite\n",
    "# year=2020\n",
    "# yearly_ndvi_composites_dict = {}\n",
    "# print(\"proccesing year\")\n",
    "# ndbi_composite=compute_ndbi_for_year(year,chitwan_area)\n",
    "# print(f\"finish processing {year}\")\n",
    "# yearly_ndvi_composites_dict[year] = ndbi_composite\n",
    "\n",
    "\n"
   ]
  },
  {
   "cell_type": "code",
   "execution_count": 16,
   "id": "120aaecc",
   "metadata": {},
   "outputs": [
    {
     "data": {
      "text/html": [
       "\n",
       "            <style>\n",
       "                .geemap-dark {\n",
       "                    --jp-widgets-color: white;\n",
       "                    --jp-widgets-label-color: white;\n",
       "                    --jp-ui-font-color1: white;\n",
       "                    --jp-layout-color2: #454545;\n",
       "                    background-color: #383838;\n",
       "                }\n",
       "\n",
       "                .geemap-dark .jupyter-button {\n",
       "                    --jp-layout-color3: #383838;\n",
       "                }\n",
       "\n",
       "                .geemap-colab {\n",
       "                    background-color: var(--colab-primary-surface-color, white);\n",
       "                }\n",
       "\n",
       "                .geemap-colab .jupyter-button {\n",
       "                    --jp-layout-color3: var(--colab-primary-surface-color, white);\n",
       "                }\n",
       "            </style>\n",
       "            "
      ],
      "text/plain": [
       "<IPython.core.display.HTML object>"
      ]
     },
     "metadata": {},
     "output_type": "display_data"
    }
   ],
   "source": [
    "def compute_ndbi_for_year(year, chitwan_area):\n",
    "    print(f\"\\n=== Processing year {year} ===\")\n",
    "    start_date = f'{year}-01-01'\n",
    "    end_date = f'{year}-12-31'\n",
    "    \n",
    "    # Get Sentinel-2 collection\n",
    "    sentinel2 = (ee.ImageCollection(\"COPERNICUS/S2_SR_HARMONIZED\")\n",
    "                  .filterDate(start_date, end_date)\n",
    "                  .filterBounds(chitwan_area)\n",
    "                  .filter(ee.Filter.lt('CLOUDY_PIXEL_PERCENTAGE', 20)))\n",
    "    \n",
    "    print(f\"Total images in collection: {sentinel2.size().getInfo()}\")\n",
    "    \n",
    "    if sentinel2.size().getInfo() == 0:\n",
    "        print(\"WARNING: No Sentinel-2 images found for this time period and area!\")\n",
    "        return None\n",
    "    \n",
    "    # Apply cloud masking\n",
    "    masked_image = sentinel2.map(mask_s2_clouds)\n",
    "    print(f\"Images after cloud masking: {masked_image.size().getInfo()}\")\n",
    "   \n",
    "    \n",
    "    \n",
    "    \n",
    "    # Calculate NDBI\n",
    "    ndbi_collection = masked_image.map(add_ndbi)\n",
    "    print(f\"NDBI collection size: {ndbi_collection.size().getInfo()}\")\n",
    "\n",
    "    \n",
    "    # Create median composite\n",
    "    ndbi_composite = ndbi_collection.select('NDBI').median().clip(chitwan_area)\n",
    "    \n",
    "    # Check if composite has data\n",
    "    composite_stats = ndbi_composite.reduceRegion(\n",
    "        reducer=ee.Reducer.minMax(),\n",
    "        \n",
    "        geometry=chitwan_area,\n",
    "        scale=10,\n",
    "        maxPixels=1e9\n",
    "    )\n",
    "    \n",
    "    stats = composite_stats.getInfo()\n",
    "    print(f\"NDBI composite statistics: {stats}\")\n",
    "    \n",
    "    composite_band_names = ndbi_composite.bandNames()\n",
    "    print(f\"Band names: {composite_band_names.getInfo()}\")\n",
    "    \n",
    "    return ndbi_composite\n",
    "\n"
   ]
  },
  {
   "cell_type": "code",
   "execution_count": 17,
   "id": "bee67f8c",
   "metadata": {},
   "outputs": [
    {
     "data": {
      "text/html": [
       "\n",
       "            <style>\n",
       "                .geemap-dark {\n",
       "                    --jp-widgets-color: white;\n",
       "                    --jp-widgets-label-color: white;\n",
       "                    --jp-ui-font-color1: white;\n",
       "                    --jp-layout-color2: #454545;\n",
       "                    background-color: #383838;\n",
       "                }\n",
       "\n",
       "                .geemap-dark .jupyter-button {\n",
       "                    --jp-layout-color3: #383838;\n",
       "                }\n",
       "\n",
       "                .geemap-colab {\n",
       "                    background-color: var(--colab-primary-surface-color, white);\n",
       "                }\n",
       "\n",
       "                .geemap-colab .jupyter-button {\n",
       "                    --jp-layout-color3: var(--colab-primary-surface-color, white);\n",
       "                }\n",
       "            </style>\n",
       "            "
      ],
      "text/plain": [
       "<IPython.core.display.HTML object>"
      ]
     },
     "metadata": {},
     "output_type": "display_data"
    },
    {
     "name": "stdout",
     "output_type": "stream",
     "text": [
      "Starting NDBI computation...\n",
      "\n",
      "=== Processing year 2019 ===\n",
      "Total images in collection: 54\n",
      "Images after cloud masking: 54\n",
      "NDBI collection size: 54\n",
      "NDBI composite statistics: {'NDBI_max': 0.45957446098327637, 'NDBI_min': -0.5498444437980652}\n",
      "Band names: ['NDBI']\n",
      "\n",
      "NDBI composite for 2019 created successfully!\n",
      "Starting NDBI computation...\n",
      "\n",
      "=== Processing year 2020 ===\n",
      "Total images in collection: 49\n",
      "Images after cloud masking: 49\n",
      "NDBI collection size: 49\n",
      "NDBI composite statistics: {'NDBI_max': 0.4966363310813904, 'NDBI_min': -0.5595238208770752}\n",
      "Band names: ['NDBI']\n",
      "\n",
      "NDBI composite for 2020 created successfully!\n",
      "Starting NDBI computation...\n",
      "\n",
      "=== Processing year 2021 ===\n",
      "Total images in collection: 54\n",
      "Images after cloud masking: 54\n",
      "NDBI collection size: 54\n",
      "NDBI composite statistics: {'NDBI_max': 0.4527660310268402, 'NDBI_min': -0.6137953996658325}\n",
      "Band names: ['NDBI']\n",
      "\n",
      "NDBI composite for 2021 created successfully!\n",
      "Starting NDBI computation...\n",
      "\n",
      "=== Processing year 2022 ===\n",
      "Total images in collection: 59\n",
      "Images after cloud masking: 59\n",
      "NDBI collection size: 59\n",
      "NDBI composite statistics: {'NDBI_max': 0.4954407215118408, 'NDBI_min': -0.6037797331809998}\n",
      "Band names: ['NDBI']\n",
      "\n",
      "NDBI composite for 2022 created successfully!\n",
      "Starting NDBI computation...\n",
      "\n",
      "=== Processing year 2023 ===\n",
      "Total images in collection: 56\n",
      "Images after cloud masking: 56\n",
      "NDBI collection size: 56\n",
      "NDBI composite statistics: {'NDBI_max': 0.533683717250824, 'NDBI_min': -0.5530657768249512}\n",
      "Band names: ['NDBI']\n",
      "\n",
      "NDBI composite for 2023 created successfully!\n"
     ]
    }
   ],
   "source": [
    "\n",
    "# Test the function\n",
    "years = range(2019,2024)\n",
    "ndbi_dict={}\n",
    "for year in years: \n",
    "    print(\"Starting NDBI computation...\")\n",
    "    ndbi_composite = compute_ndbi_for_year(year, chitwan_area)\n",
    "\n",
    "    print(f\"\\nNDBI composite for {year} created successfully!\")\n",
    "    ndbi_dict[year]=ndbi_composite\n",
    "    \n",
    "    # Check if we have valid data\n",
    "    # sample_value = ndbi_composite.sample(region=chitwan_area, scale=10, numPixels=1)\n",
    "    # print(f\"Sample NDBI value: {sample_value.getInfo()}\")\n",
    "    \n",
    "    # Create map and add layer\n",
    "   \n",
    "   \n"
   ]
  },
  {
   "cell_type": "code",
   "execution_count": 18,
   "id": "ca944e32",
   "metadata": {},
   "outputs": [
    {
     "data": {
      "text/html": [
       "\n",
       "            <style>\n",
       "                .geemap-dark {\n",
       "                    --jp-widgets-color: white;\n",
       "                    --jp-widgets-label-color: white;\n",
       "                    --jp-ui-font-color1: white;\n",
       "                    --jp-layout-color2: #454545;\n",
       "                    background-color: #383838;\n",
       "                }\n",
       "\n",
       "                .geemap-dark .jupyter-button {\n",
       "                    --jp-layout-color3: #383838;\n",
       "                }\n",
       "\n",
       "                .geemap-colab {\n",
       "                    background-color: var(--colab-primary-surface-color, white);\n",
       "                }\n",
       "\n",
       "                .geemap-colab .jupyter-button {\n",
       "                    --jp-layout-color3: var(--colab-primary-surface-color, white);\n",
       "                }\n",
       "            </style>\n",
       "            "
      ],
      "text/plain": [
       "<IPython.core.display.HTML object>"
      ]
     },
     "metadata": {},
     "output_type": "display_data"
    }
   ],
   "source": [
    "Map = geemap.Map()\n",
    "ndbi_vis_params = {\n",
    "    'min': -0.6,  # The actual minimum NDBI value\n",
    "    'max': 0.4,   # The actual maximum NDBI value\n",
    "    'palette': ['green', 'white', 'brown']  # Emphasize vegetation\n",
    "    }\n",
    "  \n",
    "\n",
    "\n",
    "for year, ndbi_composite in ndbi_dict.items():   \n",
    "    Map.addLayer(ndbi_composite, ndbi_vis_params, f'NDBI {year}')\n",
    "\n",
    "    Map.centerObject(chitwan_area, 10)\n",
    "    \n"
   ]
  },
  {
   "cell_type": "code",
   "execution_count": 19,
   "id": "5549905a",
   "metadata": {},
   "outputs": [
    {
     "data": {
      "text/html": [
       "\n",
       "            <style>\n",
       "                .geemap-dark {\n",
       "                    --jp-widgets-color: white;\n",
       "                    --jp-widgets-label-color: white;\n",
       "                    --jp-ui-font-color1: white;\n",
       "                    --jp-layout-color2: #454545;\n",
       "                    background-color: #383838;\n",
       "                }\n",
       "\n",
       "                .geemap-dark .jupyter-button {\n",
       "                    --jp-layout-color3: #383838;\n",
       "                }\n",
       "\n",
       "                .geemap-colab {\n",
       "                    background-color: var(--colab-primary-surface-color, white);\n",
       "                }\n",
       "\n",
       "                .geemap-colab .jupyter-button {\n",
       "                    --jp-layout-color3: var(--colab-primary-surface-color, white);\n",
       "                }\n",
       "            </style>\n",
       "            "
      ],
      "text/plain": [
       "<IPython.core.display.HTML object>"
      ]
     },
     "metadata": {},
     "output_type": "display_data"
    }
   ],
   "source": [
    "Map.addLayer(chitwan_area, {}, 'Chitwan Area')"
   ]
  },
  {
   "cell_type": "code",
   "execution_count": 20,
   "id": "f95135b3",
   "metadata": {},
   "outputs": [
    {
     "data": {
      "text/html": [
       "\n",
       "            <style>\n",
       "                .geemap-dark {\n",
       "                    --jp-widgets-color: white;\n",
       "                    --jp-widgets-label-color: white;\n",
       "                    --jp-ui-font-color1: white;\n",
       "                    --jp-layout-color2: #454545;\n",
       "                    background-color: #383838;\n",
       "                }\n",
       "\n",
       "                .geemap-dark .jupyter-button {\n",
       "                    --jp-layout-color3: #383838;\n",
       "                }\n",
       "\n",
       "                .geemap-colab {\n",
       "                    background-color: var(--colab-primary-surface-color, white);\n",
       "                }\n",
       "\n",
       "                .geemap-colab .jupyter-button {\n",
       "                    --jp-layout-color3: var(--colab-primary-surface-color, white);\n",
       "                }\n",
       "            </style>\n",
       "            "
      ],
      "text/plain": [
       "<IPython.core.display.HTML object>"
      ]
     },
     "metadata": {},
     "output_type": "display_data"
    },
    {
     "data": {
      "application/vnd.jupyter.widget-view+json": {
       "model_id": "7d2aedd2544b43a2ac1279266566e9a4",
       "version_major": 2,
       "version_minor": 0
      },
      "text/plain": [
       "Map(center=[27.58469920634309, 84.4365032193742], controls=(WidgetControl(options=['position', 'transparent_bg…"
      ]
     },
     "execution_count": 20,
     "metadata": {},
     "output_type": "execute_result"
    }
   ],
   "source": [
    "Map.add_legend(\n",
    "    title=\"NDBI (Built-up Index)\",\n",
    "    legend_dict={\n",
    "        \"Vegetation (Low NDBI)\": \"green\",\n",
    "        \"Mixed/Transitional\": \"white\",\n",
    "        \"Built-up (High NDBI)\": \"brown\"\n",
    "    },\n",
    "    position=\"topright\" # You can change the position (e.g., \"topright\")\n",
    ")\n",
    "Map"
   ]
  }
 ],
 "metadata": {
  "kernelspec": {
   "display_name": "Python 3",
   "language": "python",
   "name": "python3"
  },
  "language_info": {
   "codemirror_mode": {
    "name": "ipython",
    "version": 3
   },
   "file_extension": ".py",
   "mimetype": "text/x-python",
   "name": "python",
   "nbconvert_exporter": "python",
   "pygments_lexer": "ipython3",
   "version": "3.11.13"
  }
 },
 "nbformat": 4,
 "nbformat_minor": 5
}
